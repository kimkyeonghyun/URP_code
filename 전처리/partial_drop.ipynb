{
 "cells": [
  {
   "cell_type": "code",
   "execution_count": 1,
   "metadata": {},
   "outputs": [],
   "source": [
    "import pandas as pd\n",
    "import re\n",
    "from ast import literal_eval\n"
   ]
  },
  {
   "cell_type": "code",
   "execution_count": 2,
   "metadata": {},
   "outputs": [],
   "source": [
    "train = pd.read_csv('./materials/민원22~24년도통합_train_1010_law.csv' ,encoding='utf-8-sig', lineterminator='\\n')\n",
    "train['추출된 법(re)'] = train['추출된 법(re)'].apply(literal_eval)\n",
    "train = train[train['추출된 법(re)'].apply(len) != 0]\n",
    "train = train.reset_index(drop=True)\n",
    "\n"
   ]
  },
  {
   "cell_type": "code",
   "execution_count": 3,
   "metadata": {},
   "outputs": [],
   "source": [
    "passage = pd.read_csv('./law_data/law_filter_raw.csv', encoding='utf-8-sig', lineterminator='\\n')\n"
   ]
  },
  {
   "cell_type": "code",
   "execution_count": 4,
   "metadata": {},
   "outputs": [],
   "source": [
    "def split_law_and_article(text):\n",
    "    # '제숫자조' 뒤에 의2와 같은 추가 내용을 포함하도록 정규식 수정\n",
    "    match = re.match(r'(.*?)(제\\d+조[\\w]*)', text)\n",
    "    if match:\n",
    "        law_name = match.group(1).replace(' ', '').strip()  # 법 이름 부분\n",
    "        article = match.group(2).strip()  # 조항 부분\n",
    "        return [law_name, article]\n",
    "    else:\n",
    "        return [text.strip(), '']\n",
    "    \n",
    "def split_passage(text):\n",
    "    \"\"\"\n",
    "    입력된 텍스트를 법 이름과 조항으로 분리.\n",
    "    \"\"\"\n",
    "    parts = text.split(' : ', 1)\n",
    "    if len(parts) < 2:\n",
    "        return '', ''\n",
    "    law_parts = parts[0].split(' ; ')\n",
    "    if len(law_parts) == 3:\n",
    "        return law_parts[0].strip(), ' '.join(law_parts[1:]).strip()\n",
    "    elif len(law_parts) == 2:\n",
    "        return law_parts[0].strip(), law_parts[1].strip()\n",
    "    return '', ''\n",
    "passage[['law_name', 'law_clause']] = passage['passage'].apply(lambda x: pd.Series(split_passage(x)))\n",
    "\n",
    "law_name_list=list(set(passage['law_name'].tolist()))"
   ]
  },
  {
   "cell_type": "code",
   "execution_count": 5,
   "metadata": {},
   "outputs": [],
   "source": [
    "train['추출된 법(split)'] = train['추출된 법(re)'].apply(lambda x: [split_law_and_article(law) for law in x])\n",
    "train['추출된법_law_name'] = train['추출된 법(split)'].apply(lambda x: [law[0] for law in x])\n",
    "with open('./minwon_law_list.txt', 'r', encoding='utf-8-sig') as f:\n",
    "    minwon_law_list = [line.strip() for line in f.readlines()]\n",
    "unique_laws = list(set(minwon_law_list) - set(law_name_list))\n",
    "train_unique_minwon = []\n",
    "train_unique_minwon_list = []\n",
    "for i in range(len(train)):\n",
    "    index_list = []\n",
    "    for law in range(len(train['추출된법_law_name'][i])):\n",
    "        if train['추출된법_law_name'][i][law] in unique_laws:\n",
    "            index_list.append(law)\n",
    "            train_unique_minwon.append(i)\n",
    "    train_unique_minwon_list.append(index_list)\n",
    "train_unique_minwon = list(set(train_unique_minwon))"
   ]
  },
  {
   "cell_type": "code",
   "execution_count": 9,
   "metadata": {},
   "outputs": [
    {
     "data": {
      "text/plain": [
       "['건축법 제19조',\n",
       " '건축물의 분양에 관한 법률 제6조',\n",
       " '표시광고의 공정화에 관한 법률 제3조',\n",
       " '건축물의 분양에 관한 법률 시행령 제9조']"
      ]
     },
     "execution_count": 9,
     "metadata": {},
     "output_type": "execute_result"
    }
   ],
   "source": [
    "train['추출된 법(re)'][11]"
   ]
  },
  {
   "cell_type": "code",
   "execution_count": 10,
   "metadata": {},
   "outputs": [
    {
     "data": {
      "text/plain": [
       "[['건축법', '제19조'],\n",
       " ['건축물의분양에관한법률', '제6조'],\n",
       " ['표시광고의공정화에관한법률', '제3조'],\n",
       " ['건축물의분양에관한법률시행령', '제9조']]"
      ]
     },
     "execution_count": 10,
     "metadata": {},
     "output_type": "execute_result"
    }
   ],
   "source": [
    "train['추출된 법(split)'][11]"
   ]
  },
  {
   "cell_type": "code",
   "execution_count": 11,
   "metadata": {},
   "outputs": [
    {
     "data": {
      "text/plain": [
       "['건축법', '건축물의분양에관한법률', '표시광고의공정화에관한법률', '건축물의분양에관한법률시행령']"
      ]
     },
     "execution_count": 11,
     "metadata": {},
     "output_type": "execute_result"
    }
   ],
   "source": [
    "train['추출된법_law_name'][11]"
   ]
  },
  {
   "cell_type": "code",
   "execution_count": 8,
   "metadata": {},
   "outputs": [
    {
     "data": {
      "text/plain": [
       "[2]"
      ]
     },
     "execution_count": 8,
     "metadata": {},
     "output_type": "execute_result"
    }
   ],
   "source": [
    "train_unique_minwon_list[11]"
   ]
  },
  {
   "cell_type": "code",
   "execution_count": null,
   "metadata": {},
   "outputs": [
    {
     "data": {
      "text/plain": [
       "True"
      ]
     },
     "execution_count": 16,
     "metadata": {},
     "output_type": "execute_result"
    }
   ],
   "source": [
    "'표시광고의공정화에관한법률' in law_name_list"
   ]
  },
  {
   "cell_type": "code",
   "execution_count": 14,
   "metadata": {},
   "outputs": [],
   "source": [
    "for idx in range(len(train_unique_minwon_list)):\n",
    "    if train_unique_minwon_list[idx] == 0:\n",
    "        pass\n",
    "    else:\n",
    "        list_ = sorted(train_unique_minwon_list[idx], reverse=True)\n",
    "        law_list = train['추출된 법(re)'][idx]\n",
    "        for i in list_:\n",
    "            del law_list[i]\n",
    "        train.at[idx, '추출된 법(re)'] = law_list"
   ]
  },
  {
   "cell_type": "code",
   "execution_count": 15,
   "metadata": {},
   "outputs": [
    {
     "data": {
      "text/plain": [
       "['건축법 제19조', '건축물의 분양에 관한 법률 제6조', '건축물의 분양에 관한 법률 시행령 제9조']"
      ]
     },
     "execution_count": 15,
     "metadata": {},
     "output_type": "execute_result"
    }
   ],
   "source": [
    "train['추출된 법(re)'][11]"
   ]
  },
  {
   "cell_type": "code",
   "execution_count": null,
   "metadata": {},
   "outputs": [],
   "source": [
    "train = train[train['추출된 법(re)'].apply(len) != 0]\n",
    "train = train.reset_index(drop=True)\n",
    "train = train.drop(columns = ['추출된 법(split)', '추출된법_law_name'])\n",
    "train.to_csv('./materials/민원22~24년도통합_train_1010_partial_drop.csv', encoding='utf-8-sig')\n"
   ]
  }
 ],
 "metadata": {
  "kernelspec": {
   "display_name": "khyun",
   "language": "python",
   "name": "python3"
  },
  "language_info": {
   "codemirror_mode": {
    "name": "ipython",
    "version": 3
   },
   "file_extension": ".py",
   "mimetype": "text/x-python",
   "name": "python",
   "nbconvert_exporter": "python",
   "pygments_lexer": "ipython3",
   "version": "3.8.20"
  }
 },
 "nbformat": 4,
 "nbformat_minor": 2
}
