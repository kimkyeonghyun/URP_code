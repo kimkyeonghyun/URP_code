{
 "cells": [
  {
   "cell_type": "code",
   "execution_count": 2,
   "id": "03ffd977-ed67-48f9-bd03-308eb6e060b3",
   "metadata": {},
   "outputs": [],
   "source": [
    "import pandas as pd"
   ]
  },
  {
   "cell_type": "code",
   "execution_count": 2,
   "id": "f7bdfd40-1700-4309-b23e-205d6fbf6e05",
   "metadata": {},
   "outputs": [],
   "source": [
    "filter_law = pd.read_csv('../law_data/law_corpus.csv', encoding='utf-8-sig', lineterminator='\\n')\n",
    "# minwon_law_list.txt 파일에서 법령 이름 리스트 불러오기\n",
    "with open('./minwon_law_list.txt', 'r', encoding='utf-8-sig') as f:\n",
    "    minwon_law_list = [line.strip() for line in f.readlines()]\n",
    "\n",
    "# law_name이 minwon_law_list에 포함된 데이터만 필터링\n",
    "filter_law = filter_law[filter_law['law_name'].isin(minwon_law_list)]\n",
    "filter_law = filter_law.reset_index()"
   ]
  },
  {
   "cell_type": "code",
   "execution_count": 3,
   "id": "b9213b1d-5ba6-4866-ba2b-d8aa6c4e5b2b",
   "metadata": {},
   "outputs": [],
   "source": [
    "filter_law.to_csv('../law_data/law_filter_raw.csv', encoding='utf-8-sig', lineterminator='\\n')"
   ]
  },
  {
   "cell_type": "code",
   "execution_count": null,
   "id": "e00175a4",
   "metadata": {},
   "outputs": [],
   "source": []
  }
 ],
 "metadata": {
  "kernelspec": {
   "display_name": "khyun",
   "language": "python",
   "name": "python3"
  },
  "language_info": {
   "codemirror_mode": {
    "name": "ipython",
    "version": 3
   },
   "file_extension": ".py",
   "mimetype": "text/x-python",
   "name": "python",
   "nbconvert_exporter": "python",
   "pygments_lexer": "ipython3",
   "version": "3.8.19"
  }
 },
 "nbformat": 4,
 "nbformat_minor": 5
}
