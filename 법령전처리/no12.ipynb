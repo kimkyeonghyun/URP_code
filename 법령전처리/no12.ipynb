{
 "cells": [
  {
   "cell_type": "code",
   "execution_count": 1,
   "metadata": {},
   "outputs": [],
   "source": [
    "import pandas as pd\n",
    "from ast import literal_eval\n",
    "import re"
   ]
  },
  {
   "cell_type": "code",
   "execution_count": null,
   "metadata": {},
   "outputs": [],
   "source": [
    "def remove_parentheses(text):\n",
    "    cleaned_text = re.sub(r'\\([^)]*\\)', '', text).strip()\n",
    "    return cleaned_text.split(' ; ')\n",
    "def split_law_and_article(text):\n",
    "    # '제숫자조' 뒤에 의2와 같은 추가 내용을 포함하도록 정규식 수정\n",
    "    match = re.match(r'(.*?)(제\\d+조[\\w]*)', text)\n",
    "    if match:\n",
    "        law_name = match.group(1).replace(' ', '').strip()  # 법 이름 부분\n",
    "        article = match.group(2).strip()  # 조항 부분\n",
    "        return [law_name, article]\n",
    "    else:\n",
    "        return [text.strip(), '']\n",
    "# Shuffle and split the dataframe 6 times\n",
    "test_df = pd.read_csv('/home/kyeonghyun/test_retrieval/materials/민원22~24년도통합_partial_drop_yoji.csv', encoding='utf-8-sig')\n",
    "test = test_df\n",
    "test_df['추출된 법(re)'] = test_df['추출된 법(re)'].apply(literal_eval)\n",
    "test_df['추출된 법(split)'] = test_df['추출된 법(re)'].apply(lambda x: [split_law_and_article(law) for law in x])\n",
    "test_df['추출된법_law_clause'] = test_df['추출된 법(split)'].apply(lambda x: [law[1] for law in x])\n"
   ]
  },
  {
   "cell_type": "code",
   "execution_count": null,
   "metadata": {},
   "outputs": [
    {
     "data": {
      "text/plain": [
       "['건축법 시행령 제3조의5', '건축법 제2조', '건축법 시행령 제2조']"
      ]
     },
     "execution_count": 20,
     "metadata": {},
     "output_type": "execute_result"
    }
   ],
   "source": [
    "test_df['추출된 법(re)'][1]"
   ]
  },
  {
   "cell_type": "code",
   "execution_count": 21,
   "metadata": {},
   "outputs": [
    {
     "data": {
      "text/plain": [
       "[['건축법시행령', '제3조의5'], ['건축법', '제2조'], ['건축법시행령', '제2조']]"
      ]
     },
     "execution_count": 21,
     "metadata": {},
     "output_type": "execute_result"
    }
   ],
   "source": [
    "test_df['추출된 법(split)'][1]"
   ]
  },
  {
   "cell_type": "code",
   "execution_count": 17,
   "metadata": {},
   "outputs": [
    {
     "data": {
      "text/plain": [
       "['제3조의5', '제2조', '제2조']"
      ]
     },
     "execution_count": 17,
     "metadata": {},
     "output_type": "execute_result"
    }
   ],
   "source": [
    "test_df['추출된법_law_clause'][1]"
   ]
  },
  {
   "cell_type": "code",
   "execution_count": 3,
   "metadata": {},
   "outputs": [],
   "source": [
    "test_unique_minwon_list = []\n",
    "for k in range(len(test_df)):\n",
    "    index_list = []\n",
    "    for law in range(len(test_df['추출된법_law_clause'][k])):\n",
    "        if '제1조' in test_df['추출된법_law_clause'][k][law] :\n",
    "            index_list.append(law)\n",
    "        elif '제2조' in test_df['추출된법_law_clause'][k][law] and '제2조의' not in test_df['추출된법_law_clause'][k][law]:\n",
    "            index_list.append(law)\n",
    "    test_unique_minwon_list.append(index_list)\n",
    "\n",
    "        \n"
   ]
  },
  {
   "cell_type": "code",
   "execution_count": 16,
   "metadata": {},
   "outputs": [
    {
     "data": {
      "text/plain": [
       "[1, 2]"
      ]
     },
     "execution_count": 16,
     "metadata": {},
     "output_type": "execute_result"
    }
   ],
   "source": [
    "test_unique_minwon_list[1]"
   ]
  },
  {
   "cell_type": "code",
   "execution_count": 22,
   "metadata": {},
   "outputs": [],
   "source": [
    "for idx in range(len(test_unique_minwon_list)):\n",
    "    if test_unique_minwon_list[idx] == 0:\n",
    "        pass\n",
    "    else:\n",
    "        list_ = sorted(test_unique_minwon_list[idx], reverse=True)\n",
    "        law_list = test_df['추출된 법(re)'][idx]\n",
    "        for k in list_:\n",
    "            del law_list[k]\n",
    "        test_df.at[idx, '추출된 법(re)'] = law_list   \n",
    "test_df = test_df[test_df['추출된 법(re)'].apply(len) != 0]\n",
    "test_df = test_df.reset_index(drop=True)  \n",
    "test_df = test_df.drop(['추출된 법(split)', '추출된법_law_clause'], axis=1)"
   ]
  },
  {
   "cell_type": "code",
   "execution_count": 23,
   "metadata": {},
   "outputs": [
    {
     "data": {
      "text/plain": [
       "['건축법 시행령 제3조의5']"
      ]
     },
     "execution_count": 23,
     "metadata": {},
     "output_type": "execute_result"
    }
   ],
   "source": [
    "test_df['추출된 법(re)'][1]"
   ]
  },
  {
   "cell_type": "code",
   "execution_count": null,
   "metadata": {},
   "outputs": [],
   "source": [
    "\n",
    "\n",
    "if test['민원내용'][0] == test_df['민원내용'][0]:\n",
    "    pass\n",
    "else:\n",
    "    print('error')\n",
    "\n",
    "test_df.to_csv(f'/home/kyeonghyun/test_retrieval/data1/민원22~24년도통합_test_partial_drop_no12.csv', index=False, encoding='utf-8-sig')\n"
   ]
  }
 ],
 "metadata": {
  "kernelspec": {
   "display_name": "khyun",
   "language": "python",
   "name": "python3"
  },
  "language_info": {
   "codemirror_mode": {
    "name": "ipython",
    "version": 3
   },
   "file_extension": ".py",
   "mimetype": "text/x-python",
   "name": "python",
   "nbconvert_exporter": "python",
   "pygments_lexer": "ipython3",
   "version": "3.8.20"
  }
 },
 "nbformat": 4,
 "nbformat_minor": 2
}
