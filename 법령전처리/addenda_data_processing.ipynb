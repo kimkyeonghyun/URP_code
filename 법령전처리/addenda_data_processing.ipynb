{
 "cells": [
  {
   "cell_type": "code",
   "execution_count": 19,
   "id": "3a053135-6d22-44ec-8464-2e79f1a234cc",
   "metadata": {},
   "outputs": [],
   "source": [
    "import json\n",
    "import re\n",
    "from datetime import datetime\n",
    "import pandas as pd"
   ]
  },
  {
   "cell_type": "code",
   "execution_count": 20,
   "id": "8a413879-41c4-4319-a917-e587c84d1302",
   "metadata": {},
   "outputs": [],
   "source": [
    "# JSON 파일 경로 설정\n",
    "json_file_path = '../law_data/law_preprocessing.json'\n",
    "\n",
    "# JSON 파일 불러오기\n",
    "with open(json_file_path, 'r') as file:\n",
    "    data = json.load(file)\n"
   ]
  },
  {
   "cell_type": "code",
   "execution_count": 21,
   "id": "4a66c526-67c9-44c7-97b4-56a47caf0d50",
   "metadata": {},
   "outputs": [],
   "source": [
    "addenda_dict = {key: data[key]['addenda'] for key in data if 'addenda' in data[key]}"
   ]
  },
  {
   "cell_type": "code",
   "execution_count": 22,
   "id": "e0aa725e-6674-45d6-b58a-2d75b152c2d4",
   "metadata": {},
   "outputs": [],
   "source": [
    "# 저장할 파일 경로 설정\n",
    "output_file_path = '../law_data/addenda_data.json'\n",
    "\n",
    "# addenda_dict를 JSON 파일로 저장\n",
    "with open(output_file_path, 'w') as output_file:\n",
    "    json.dump(addenda_dict, output_file, ensure_ascii=False, indent=4)\n"
   ]
  },
  {
   "cell_type": "code",
   "execution_count": 23,
   "id": "dbd5e1e9-5937-4929-a530-4edfb73d63a7",
   "metadata": {},
   "outputs": [],
   "source": [
    "# 각 key, key_2, article의 key와 value를 하나의 행으로 저장할 리스트\n",
    "rows = []\n",
    "\n",
    "# 데이터 변환\n",
    "for key in addenda_dict.keys():\n",
    "    buchick = addenda_dict[key]\n",
    "    for key_2 in buchick.keys():\n",
    "        date_match = re.search(r'\\d{4}\\. \\d{1,2}\\. \\d{1,2}\\.', key_2)\n",
    "        if date_match:\n",
    "            # 문자열을 datetime 객체로 변환\n",
    "            date_str = date_match.group(0)\n",
    "            date_obj = datetime.strptime(date_str, '%Y. %m. %d.')\n",
    "            # 원하는 형식 (예: YYYY-MM-DD)으로 변환\n",
    "            formatted_date = date_obj.strftime('%Y-%m-%d')\n",
    "        article = buchick[key_2]\n",
    "        if isinstance(article, dict):\n",
    "            for article_key, article_value in article.items():\n",
    "                rows.append({\n",
    "                    'law_name': key.replace(\" \", \"\"),  # 공백 제거\n",
    "                    'effective_date': formatted_date,\n",
    "                    'article': article_key,\n",
    "                    'passage': article_value\n",
    "                })\n",
    "        else:\n",
    "            # article이 딕셔너리가 아닐 경우\n",
    "            rows.append({\n",
    "                'law_name': key.replace(\" \", \"\"),  # 공백 제거\n",
    "                'effective_date': formatted_date,\n",
    "                'article': None,\n",
    "                'passage': article\n",
    "            })\n",
    "\n",
    "# DataFrame으로 변환\n",
    "df = pd.DataFrame(rows)"
   ]
  },
  {
   "cell_type": "code",
   "execution_count": 24,
   "id": "850e3f4f-6496-4edb-95a9-91091420b83e",
   "metadata": {},
   "outputs": [],
   "source": [
    "df.to_csv('../law_data/addenda.csv', encoding='utf-8-sig', lineterminator='\\n')"
   ]
  },
  {
   "cell_type": "code",
   "execution_count": null,
   "id": "6b7c5f64-4496-48d3-baf4-6dd9a7087a82",
   "metadata": {},
   "outputs": [],
   "source": []
  }
 ],
 "metadata": {
  "kernelspec": {
   "display_name": "Python 3 (ipykernel)",
   "language": "python",
   "name": "python3"
  },
  "language_info": {
   "codemirror_mode": {
    "name": "ipython",
    "version": 3
   },
   "file_extension": ".py",
   "mimetype": "text/x-python",
   "name": "python",
   "nbconvert_exporter": "python",
   "pygments_lexer": "ipython3",
   "version": "3.11.6"
  }
 },
 "nbformat": 4,
 "nbformat_minor": 5
}
