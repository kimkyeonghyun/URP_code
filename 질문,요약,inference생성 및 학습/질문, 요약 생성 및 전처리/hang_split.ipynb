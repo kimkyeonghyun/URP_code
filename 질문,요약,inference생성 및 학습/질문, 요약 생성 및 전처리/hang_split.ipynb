{
 "cells": [
  {
   "cell_type": "code",
   "execution_count": 59,
   "id": "4343f23f-16a2-4c72-bf25-4d6bc8007f95",
   "metadata": {},
   "outputs": [],
   "source": [
    "import pandas as pd"
   ]
  },
  {
   "cell_type": "code",
   "execution_count": null,
   "id": "2f1f5481-d328-44ad-82b4-86bb4b6c4f10",
   "metadata": {},
   "outputs": [],
   "source": [
    "law = pd.read_csv('law_filter_raw.csv', encoding = 'utf-8-sig', lineterminator='\\n')"
   ]
  },
  {
   "cell_type": "code",
   "execution_count": 65,
   "id": "f8a39da3-5986-479a-b843-11837390e045",
   "metadata": {},
   "outputs": [],
   "source": [
    "import re\n",
    "pattern = re.compile(r'[\\u2460-\\u2473]')  # 유니코드 범위\n",
    "law_list = []\n",
    "for idx in range(len(law)):   \n",
    "    split_text = pattern.split(law.loc[idx]['passage'])\n",
    "    \n",
    "    if len(split_text) == 1:\n",
    "        law_list.append(law.loc[idx]['passage'])\n",
    "    else:\n",
    "        for i in range(1, len(split_text)):  # 인덱스 1부터 시작\n",
    "            combined = f'{split_text[0]}{split_text[i].strip()}'\n",
    "            law_list.append(combined)"
   ]
  },
  {
   "cell_type": "code",
   "execution_count": 66,
   "id": "e99c7d02-535b-4bfc-84d8-d195d58687e2",
   "metadata": {},
   "outputs": [],
   "source": [
    "# 각각의 법, 조항, 원본 텍스트를 저장할 리스트\n",
    "law_column = []\n",
    "article_column = []\n",
    "passage_column = []\n",
    "\n",
    "# 정규식을 사용하여 데이터를 분리\n",
    "pattern = re.compile(r'(.+?) ; (.+?) : (.+)')\n",
    "\n",
    "for entry in law_list:\n",
    "    match = pattern.match(entry)\n",
    "    if match:\n",
    "        law_column.append(match.group(1).strip())  # 법 이름\n",
    "        article_column.append(match.group(2).strip())  # 조항\n",
    "        passage_column.append(match.group(3))  # 원본 텍스트\n",
    "\n",
    "# 데이터프레임 생성\n",
    "df = pd.DataFrame({\n",
    "    'law': law_column,\n",
    "    'article': article_column,\n",
    "    'passage': passage_column\n",
    "})"
   ]
  },
  {
   "cell_type": "code",
   "execution_count": 67,
   "id": "c9e635bd-d088-484c-83ef-ff79f322afa2",
   "metadata": {},
   "outputs": [],
   "source": [
    "df.to_csv('./law_hang_re_noname.csv', encoding='utf-8-sig',lineterminator='\\n')"
   ]
  },
  {
   "cell_type": "code",
   "execution_count": null,
   "id": "798971ae-5700-4cf9-86f1-905438427edc",
   "metadata": {},
   "outputs": [],
   "source": []
  }
 ],
 "metadata": {
  "kernelspec": {
   "display_name": "Python 3 (ipykernel)",
   "language": "python",
   "name": "python3"
  },
  "language_info": {
   "codemirror_mode": {
    "name": "ipython",
    "version": 3
   },
   "file_extension": ".py",
   "mimetype": "text/x-python",
   "name": "python",
   "nbconvert_exporter": "python",
   "pygments_lexer": "ipython3",
   "version": "3.11.6"
  }
 },
 "nbformat": 4,
 "nbformat_minor": 5
}
