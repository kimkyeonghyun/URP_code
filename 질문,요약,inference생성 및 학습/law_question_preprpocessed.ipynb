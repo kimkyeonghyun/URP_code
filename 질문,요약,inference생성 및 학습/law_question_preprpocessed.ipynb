{
 "cells": [
  {
   "cell_type": "code",
   "execution_count": 6,
   "metadata": {},
   "outputs": [],
   "source": [
    "import pandas as pd\n",
    "import re"
   ]
  },
  {
   "cell_type": "code",
   "execution_count": null,
   "metadata": {},
   "outputs": [],
   "source": [
    "question = pd.read_csv('../law_data/law_hang_question.csv', encoding='utf-8-sig', lineterminator='\\n')"
   ]
  },
  {
   "cell_type": "code",
   "execution_count": 8,
   "metadata": {},
   "outputs": [],
   "source": [
    "# 새로운 row 리스트를 저장할 리스트 생성\n",
    "new_rows = []\n",
    "\n",
    "# 각 row에 대해 처리\n",
    "for _, row in question.iterrows():\n",
    "    # question column을 \\n 또는 \\n\\n 기준으로 나누기 (정규 표현식 사용)\n",
    "    questions_split = re.split(r'\\n\\n|\\n', str(row['question']))\n",
    "    \n",
    "    # \\n 또는 \\n\\n으로 나누어진 경우 처리\n",
    "    if len(questions_split) > 1:\n",
    "        # 분리된 각 질문에 대해 새로운 row 생성\n",
    "        for q in questions_split:\n",
    "            new_rows.append([row['law'], row['article'], row['passage'], q])\n",
    "    else:\n",
    "        # \\n 또는 \\n\\n이 없는 경우, 원래 row 그대로 추가\n",
    "        new_rows.append([row['law'], row['article'], row['passage'], row['question']])\n",
    "\n",
    "# 새로운 DataFrame 생성\n",
    "new_question_df = pd.DataFrame(new_rows, columns=['law', 'article', 'passage', 'question'])\n"
   ]
  },
  {
   "cell_type": "code",
   "execution_count": null,
   "metadata": {},
   "outputs": [],
   "source": [
    "new_question_df.to_csv('../law_data/law_hang_question_div.csv', index=False, encoding='utf-8-sig')"
   ]
  }
 ],
 "metadata": {
  "language_info": {
   "name": "python"
  }
 },
 "nbformat": 4,
 "nbformat_minor": 2
}
